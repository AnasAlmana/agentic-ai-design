{
 "cells": [
  {
   "cell_type": "code",
   "execution_count": null,
   "metadata": {},
   "outputs": [],
   "source": [
    "\"\"\"\n",
    "Read an image & Brand Info -> convert to base64 >> simple python code\n",
    "\n",
    "agentic starts here:\n",
    "1. send to openai for image detailed description ->\n",
    "2. send description to creative model for creative ideas prompts -> \n",
    "3. send image, brand info, creative ideas prompts to creative model for design ->\n",
    "4. covert image back from base64 -> \n",
    "5. Compress image to < 1MB & 24 Bit depth & Resize to 1080x1920 for TIKTOK ->\n",
    "6. save image & save design prompt.\n",
    "\n",
    "\"\"\""
   ]
  },
  {
   "cell_type": "code",
   "execution_count": null,
   "metadata": {},
   "outputs": [],
   "source": [
    "IMAGE_DESCRIPTION_PROMPT = \"\"\" \n",
    "Describe the image in detail, focus on the main subject in the image usually in the center, \n",
    "extract all brand info like brand name and slogan if applicable. Make sure to include all details of the image.\n",
    "\"\"\""
   ]
  },
  {
   "cell_type": "code",
   "execution_count": null,
   "metadata": {},
   "outputs": [],
   "source": []
  },
  {
   "cell_type": "code",
   "execution_count": null,
   "metadata": {},
   "outputs": [],
   "source": []
  }
 ],
 "metadata": {
  "kernelspec": {
   "display_name": "venv",
   "language": "python",
   "name": "python3"
  },
  "language_info": {
   "codemirror_mode": {
    "name": "ipython",
    "version": 3
   },
   "file_extension": ".py",
   "mimetype": "text/x-python",
   "name": "python",
   "nbconvert_exporter": "python",
   "pygments_lexer": "ipython3",
   "version": "3.9.11"
  }
 },
 "nbformat": 4,
 "nbformat_minor": 2
}
