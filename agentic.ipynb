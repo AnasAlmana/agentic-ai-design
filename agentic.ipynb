{
 "cells": [
  {
   "cell_type": "code",
   "execution_count": null,
   "metadata": {},
   "outputs": [],
   "source": [
    "\"\"\"\n",
    "Read an image & Brand Info -> convert to base64 >> simple python code\n",
    "\n",
    "agentic starts here:\n",
    "1. send to openai for image detailed description ->\n",
    "2. send description to creative model for creative ideas prompts -> \n",
    "3. send image, brand info, creative ideas prompts to creative model for design ->\n",
    "4. covert image back from base64 -> \n",
    "5. Compress image to < 1MB & 24 Bit depth & Resize to 1080x1920 for TIKTOK ->\n",
    "6. save image & save design prompt.\n",
    "\"\"\""
   ]
  },
  {
   "cell_type": "code",
   "execution_count": 7,
   "metadata": {},
   "outputs": [
    {
     "name": "stderr",
     "output_type": "stream",
     "text": [
      "c:\\Projects\\agentic-ai-design\\venv\\lib\\site-packages\\IPython\\core\\interactiveshell.py:3550: LangChainDeprecationWarning: As of langchain-core 0.3.0, LangChain uses pydantic v2 internally. The langchain_core.pydantic_v1 module was a compatibility shim for pydantic v1, and should no longer be used. Please update the code to import from Pydantic directly.\n",
      "\n",
      "For example, replace imports like: `from langchain_core.pydantic_v1 import BaseModel`\n",
      "with: `from pydantic import BaseModel`\n",
      "or the v1 compatibility namespace if you are working in a code base that has not been fully upgraded to pydantic 2 yet. \tfrom pydantic.v1 import BaseModel\n",
      "\n",
      "  exec(code_obj, self.user_global_ns, self.user_ns)\n"
     ]
    }
   ],
   "source": [
    "from langchain_core.pydantic_v1 import BaseModel, Field\n"
   ]
  },
  {
   "cell_type": "markdown",
   "metadata": {},
   "source": [
    "## 1"
   ]
  },
  {
   "cell_type": "code",
   "execution_count": 6,
   "metadata": {},
   "outputs": [],
   "source": [
    "IMAGE_DESCRIPTION_PROMPT_TEMPLATE = \"\"\" \n",
    "Describe the image in detail, focus on the main subject in the image usually in the center, \n",
    "extract all brand info like brand name and slogan if applicable. Make sure to include all details of the image.\n",
    "\n",
    "return the description in json format as this:\n",
    "{{\n",
    "    image_description: description of the image\n",
    "}}\n",
    "\"\"\"\n",
    "\n",
    "class GenerateImageDescription(BaseModel):\n",
    "    image_description: str = Field(description=\"Detailed image description\")\n",
    "\n"
   ]
  },
  {
   "cell_type": "code",
   "execution_count": null,
   "metadata": {},
   "outputs": [],
   "source": []
  },
  {
   "cell_type": "code",
   "execution_count": null,
   "metadata": {},
   "outputs": [],
   "source": []
  }
 ],
 "metadata": {
  "kernelspec": {
   "display_name": "venv",
   "language": "python",
   "name": "python3"
  },
  "language_info": {
   "codemirror_mode": {
    "name": "ipython",
    "version": 3
   },
   "file_extension": ".py",
   "mimetype": "text/x-python",
   "name": "python",
   "nbconvert_exporter": "python",
   "pygments_lexer": "ipython3",
   "version": "3.9.11"
  }
 },
 "nbformat": 4,
 "nbformat_minor": 2
}
